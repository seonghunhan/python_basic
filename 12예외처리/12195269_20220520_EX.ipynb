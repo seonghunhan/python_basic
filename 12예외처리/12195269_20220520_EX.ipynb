{
 "cells": [
  {
   "cell_type": "markdown",
   "id": "866b76fa",
   "metadata": {},
   "source": [
    "# 1번 문제"
   ]
  },
  {
   "cell_type": "code",
   "execution_count": 1,
   "id": "b9ca2169",
   "metadata": {},
   "outputs": [
    {
     "name": "stdout",
     "output_type": "stream",
     "text": [
      "x1, y1을 입력해주세요 :1 1\n",
      "x2, y2을 입력해주세요 :2 2\n",
      "1.41\n"
     ]
    }
   ],
   "source": [
    "import math\n",
    "\n",
    "try : \n",
    "    x1, y1 = map(int, input(\"x1, y1을 입력해주세요 :\").split())\n",
    "    x2, y2 = map(int, input(\"x2, y2을 입력해주세요 :\").split())\n",
    "\n",
    "    x1 = abs(x1)\n",
    "    y1 = abs(y1)\n",
    "    x2 = abs(x2)\n",
    "    y2 = abs(y2)\n",
    "\n",
    "    lenth = math.sqrt((x2 - x1)**2 + (y2 - y1)**2)\n",
    "\n",
    "except :\n",
    "    print(\"정수만 입력해주세요!\")\n",
    "\n",
    "else :\n",
    "    print(round(lenth, 2))"
   ]
  }
 ],
 "metadata": {
  "kernelspec": {
   "display_name": "Python 3 (ipykernel)",
   "language": "python",
   "name": "python3"
  },
  "language_info": {
   "codemirror_mode": {
    "name": "ipython",
    "version": 3
   },
   "file_extension": ".py",
   "mimetype": "text/x-python",
   "name": "python",
   "nbconvert_exporter": "python",
   "pygments_lexer": "ipython3",
   "version": "3.8.12"
  }
 },
 "nbformat": 4,
 "nbformat_minor": 5
}

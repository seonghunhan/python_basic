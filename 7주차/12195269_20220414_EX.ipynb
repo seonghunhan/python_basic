{
 "cells": [
  {
   "cell_type": "markdown",
   "id": "a2bccc3d",
   "metadata": {},
   "source": [
    "문제 1번"
   ]
  },
  {
   "cell_type": "code",
   "execution_count": 23,
   "id": "07e49d1c",
   "metadata": {},
   "outputs": [
    {
     "name": "stdout",
     "output_type": "stream",
     "text": [
      "숫자 10개 입력 :20\n",
      "숫자 10개 입력 :10\n",
      "숫자 10개 입력 :1\n",
      "숫자 10개 입력 :20\n",
      "숫자 10개 입력 :5\n",
      "숫자 10개 입력 :6\n",
      "숫자 10개 입력 :10\n",
      "숫자 10개 입력 :20\n",
      "숫자 10개 입력 :200\n",
      "숫자 10개 입력 :999\n",
      "[20, 10, 20, 6, 10, 20, 200] [1, 5, 999]\n"
     ]
    }
   ],
   "source": [
    "a = []\n",
    "for i in range(10) :\n",
    "    a.append(int(input(\"숫자 10개 입력 :\")))\n",
    "    \n",
    "\n",
    "L1 = []\n",
    "L2 = []\n",
    "\n",
    "for i in a :\n",
    "    \n",
    "    if i % 2 == 0 :\n",
    "        L1.append(i)\n",
    "    elif i % 2 != 0 :\n",
    "        L2.append(i)\n",
    "        \n",
    "print(L1,L2)\n"
   ]
  },
  {
   "cell_type": "markdown",
   "id": "c284581e",
   "metadata": {},
   "source": [
    "문제 2번"
   ]
  },
  {
   "cell_type": "code",
   "execution_count": 34,
   "id": "bd27a9e8",
   "metadata": {},
   "outputs": [
    {
     "name": "stdout",
     "output_type": "stream",
     "text": [
      "['continuous', 'exercise', 'practice', 'solution', 'resource']\n"
     ]
    }
   ],
   "source": [
    "list1 = ['Python', 'continuous', 'element', 'exercise', 'matrix', 'practice', 'order',\n",
    "'solution', 'deep', 'choice', 'resource']\n",
    "\n",
    "result = [i for i in list1 if len(i) >= 8]\n",
    "\n",
    "print(result)\n"
   ]
  },
  {
   "cell_type": "markdown",
   "id": "7d4e1dfc",
   "metadata": {},
   "source": [
    "문제 3번"
   ]
  },
  {
   "cell_type": "code",
   "execution_count": 38,
   "id": "cb91807d",
   "metadata": {},
   "outputs": [
    {
     "name": "stdout",
     "output_type": "stream",
     "text": [
      "[12, 0, 23, -55, 234, 89, 0, 6, -12]\n"
     ]
    }
   ],
   "source": [
    "list1 = [12, 0, None, 23, None, -55, 234, 89, None, 0, 6, -12]\n",
    "\n",
    "for i in list1 :\n",
    "    if i == None :\n",
    "        list1.remove(None)\n",
    "\n",
    "\n",
    "print(list1)"
   ]
  },
  {
   "cell_type": "markdown",
   "id": "bbcb2c62",
   "metadata": {},
   "source": [
    "문제 4번"
   ]
  },
  {
   "cell_type": "code",
   "execution_count": 46,
   "id": "6522e799",
   "metadata": {},
   "outputs": [
    {
     "name": "stdout",
     "output_type": "stream",
     "text": [
      "2번 학생-79점: 축하합니다, 합격입니다!\n",
      "3번 학생-85점: 축하합니다, 합격입니다!\n",
      "4번 학생-97점: 축하합니다, 합격입니다!\n"
     ]
    }
   ],
   "source": [
    "score = [40, 79, 85, 97, 59]\n",
    "\n",
    "for i,value in enumerate(score) :\n",
    "    if value > 60 :\n",
    "        print(\"{}번 학생-{}점: 축하합니다, 합격입니다!\".format(i+1,value))"
   ]
  },
  {
   "cell_type": "markdown",
   "id": "a25bdb7b",
   "metadata": {},
   "source": [
    "문제 5번"
   ]
  },
  {
   "cell_type": "code",
   "execution_count": 53,
   "id": "8fd8862a",
   "metadata": {},
   "outputs": [
    {
     "name": "stdout",
     "output_type": "stream",
     "text": [
      "{1: 1, 2: 4, 3: 9, 4: 16, 5: 25, 6: 36, 7: 49, 8: 64, 9: 81, 10: 100, 11: 121, 12: 144, 13: 169, 14: 196, 15: 225}\n"
     ]
    }
   ],
   "source": [
    "dic1 = {}\n",
    "\n",
    "for i in range(1,16) :\n",
    "    dic1[i] = i*i\n",
    "    \n",
    "    \n",
    "print(dic1)"
   ]
  },
  {
   "cell_type": "markdown",
   "id": "06dfae26",
   "metadata": {},
   "source": [
    "문제 6번"
   ]
  },
  {
   "cell_type": "code",
   "execution_count": 65,
   "id": "053fd6ea",
   "metadata": {},
   "outputs": [
    {
     "name": "stdout",
     "output_type": "stream",
     "text": [
      "딕셔너리:\n",
      "{'x': [11, 12, 13, 14, 15, 16, 17, 18, 19, 20], 'y': [21, 22, 23, 24, 25, 26, 27, 28, 29, 30], 'z': [31, 32, 33, 34, 35, 36, 37, 38, 39, 40]}\n",
      "Key x의 5번째값 = 15\n",
      "Key y의 5번째값 = 25\n",
      "Key z의 5번째값 = 35\n"
     ]
    }
   ],
   "source": [
    "dic1 = {'x':[11,12,13,14,15,16,17,18,19,20],'y':[21,22,23,24,25,26,27,28,29,30],'z':[31,32,33,34,35,36,37,38,39,40]}\n",
    "\n",
    "print(\"딕셔너리:\")\n",
    "print(dic1)\n",
    "\n",
    "for i in dic1.keys() :\n",
    "    print(\"Key {}의 5번째값 = {}\".format(i,dic1[i][4]))"
   ]
  },
  {
   "cell_type": "markdown",
   "id": "f26676a6",
   "metadata": {},
   "source": [
    "문제 7번"
   ]
  },
  {
   "cell_type": "code",
   "execution_count": null,
   "id": "d9cd1fa7",
   "metadata": {},
   "outputs": [
    {
     "name": "stdout",
     "output_type": "stream",
     "text": [
      "Key를 입력하세요: 1\n",
      "입력한 Key는 1입니다\n",
      "입력한 Key 1에 해당하는 값이 제거되었습니다\n",
      "변환된 딕셔너리 값은 다음과 같습니다:\n",
      "{2: 5, 3: 7, 4: 9, 5: 11}\n"
     ]
    }
   ],
   "source": [
    "dic1 = {1:3,2:5,3:7,4:9,5:11}\n",
    "\n",
    "while True :\n",
    "    a = int(input(\"Key를 입력하세요: \"))\n",
    "    print(\"입력한 Key는 {}입니다\".format(a))\n",
    "\n",
    "    if a in dic1 :\n",
    "        print(\"입력한 Key {}에 해당하는 값이 제거되었습니다\".format(a))\n",
    "        del dic1[a]\n",
    "        print(\"변환된 딕셔너리 값은 다음과 같습니다:\")\n",
    "        print(dic1)\n",
    "    else :\n",
    "        print(\"입력한 Key {}는 딕셔너리 내에 존재하지 않습니다\")\n",
    "    \n",
    "    if dic1 == {} :\n",
    "        break"
   ]
  }
 ],
 "metadata": {
  "kernelspec": {
   "display_name": "Python 3 (ipykernel)",
   "language": "python",
   "name": "python3"
  },
  "language_info": {
   "codemirror_mode": {
    "name": "ipython",
    "version": 3
   },
   "file_extension": ".py",
   "mimetype": "text/x-python",
   "name": "python",
   "nbconvert_exporter": "python",
   "pygments_lexer": "ipython3",
   "version": "3.8.12"
  }
 },
 "nbformat": 4,
 "nbformat_minor": 5
}

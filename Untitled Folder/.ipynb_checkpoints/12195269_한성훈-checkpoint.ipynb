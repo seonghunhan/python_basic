{
 "cells": [
  {
   "cell_type": "markdown",
   "id": "4ecf2803",
   "metadata": {},
   "source": [
    "1번"
   ]
  },
  {
   "cell_type": "code",
   "execution_count": 2,
   "id": "e5e06e7c",
   "metadata": {},
   "outputs": [
    {
     "name": "stdout",
     "output_type": "stream",
     "text": [
      "[3, 27, 70, 93]\n",
      "요소의 크기가 계속해서 증가하는 리스트입니다\n"
     ]
    }
   ],
   "source": [
    "list1 = [3,27,70,93]\n",
    "\n",
    "def check_increasing(list1) :\n",
    "\n",
    "    arr = []\n",
    "    arr.append(list1[0])\n",
    "    print(list1)\n",
    "    \n",
    "    for i in range (1,4) :\n",
    "        \n",
    "        if list1[i] > list1[i-1] :\n",
    "            arr.append(list1[i])\n",
    "        \n",
    "    \n",
    "    if len(arr) == 4 :\n",
    "        print(\"요소의 크기가 계속해서 증가하는 리스트입니다\")\n",
    "    else :\n",
    "        print(\"요소의 크기가 계속해서 증가하지는 않는 리스트입니다\")\n",
    "\n",
    "check_increasing(list1)"
   ]
  },
  {
   "cell_type": "markdown",
   "id": "e4ee5c44",
   "metadata": {},
   "source": [
    "2번"
   ]
  },
  {
   "cell_type": "code",
   "execution_count": 5,
   "id": "39f06176",
   "metadata": {},
   "outputs": [
    {
     "name": "stdout",
     "output_type": "stream",
     "text": [
      "314145102674570244719609791046481277268067088275579791889150033077979390594877693287020648988672\n"
     ]
    }
   ],
   "source": [
    "dp = [2,3]\n",
    "\n",
    "def next_num(n) :\n",
    "\n",
    "    for i in range (2, n) :\n",
    "        dp.append(dp[i-2] * dp[i-1])\n",
    "    \n",
    "    print(dp[n-1])\n",
    "\n",
    "next_num(13)"
   ]
  },
  {
   "cell_type": "markdown",
   "id": "4fee03fb",
   "metadata": {},
   "source": [
    "3번"
   ]
  },
  {
   "cell_type": "code",
   "execution_count": null,
   "id": "70e0a160",
   "metadata": {},
   "outputs": [],
   "source": [
    "class Book() :\n",
    "\n",
    "    def __init__(self, title, author, content) :\n",
    "        \n",
    "        self.title = title\n",
    "        self.author = author\n",
    "        self.content = content\n",
    "\n",
    "    def str(self) :\n",
    "        print(self.title, self.author)\n",
    "    \n",
    "    def read(self, n) :\n",
    "        print(self.content)\n",
    "\n",
    "b = Book(\"아무개\",\"산업경영공학과\",\"asdasdasd\")\n",
    "b.str()"
   ]
  },
  {
   "cell_type": "markdown",
   "id": "d3a09b5d",
   "metadata": {},
   "source": [
    "4번"
   ]
  },
  {
   "cell_type": "code",
   "execution_count": 6,
   "id": "5798a4b2",
   "metadata": {},
   "outputs": [
    {
     "name": "stdout",
     "output_type": "stream",
     "text": [
      "쉿!\n",
      "쉿!\n",
      "쉿!\n",
      "쉿!\n",
      "쉿!\n",
      "5\n"
     ]
    }
   ],
   "source": [
    "class LibraryEmployee() :\n",
    "\n",
    "    def __init__(self, name, department) :\n",
    "        \n",
    "        self.name = name\n",
    "        self.department = department\n",
    "        self.num_coffees = 0\n",
    "\n",
    "    def drink_coffee(self, n) :\n",
    "        self.num_coffees += n\n",
    "\n",
    "    def warn_hooligans(self, n) :\n",
    "        for _ in range(n) :\n",
    "            print(\"쉿!\")\n",
    "        \n",
    "        self.drink_coffee(n)\n",
    "\n",
    "    def str(self) :\n",
    "        print(self.name)\n",
    "\n",
    "b = LibraryEmployee(\"아무개\",\"산업경영공학과\")\n",
    "b.warn_hooligans(5)\n",
    "print(b.num_coffees)"
   ]
  },
  {
   "cell_type": "code",
   "execution_count": null,
   "id": "226f2661",
   "metadata": {},
   "outputs": [],
   "source": []
  }
 ],
 "metadata": {
  "kernelspec": {
   "display_name": "Python 3 (ipykernel)",
   "language": "python",
   "name": "python3"
  },
  "language_info": {
   "codemirror_mode": {
    "name": "ipython",
    "version": 3
   },
   "file_extension": ".py",
   "mimetype": "text/x-python",
   "name": "python",
   "nbconvert_exporter": "python",
   "pygments_lexer": "ipython3",
   "version": "3.8.12"
  }
 },
 "nbformat": 4,
 "nbformat_minor": 5
}

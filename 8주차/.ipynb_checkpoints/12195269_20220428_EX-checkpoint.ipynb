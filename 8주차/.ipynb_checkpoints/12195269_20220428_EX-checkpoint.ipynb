{
 "cells": [
  {
   "cell_type": "markdown",
   "id": "0e94aeb0",
   "metadata": {},
   "source": [
    "1번"
   ]
  },
  {
   "cell_type": "code",
   "execution_count": 23,
   "id": "43bb4c21",
   "metadata": {},
   "outputs": [
    {
     "name": "stdout",
     "output_type": "stream",
     "text": [
      "첫번째 숫자를 입력하세요 : 3.5\n",
      "입력한 숫자는 3.5입니다\n",
      "두번째 숫자를 입력하세요 : 4.2\n",
      "입력한 숫자는 4.2입니다\n",
      "3.5와 4.2의 덧셈, 뺄셈, 곱셈, 나눗셈 결과는 7.7, -0.7, 14.7, 0.83입니다\n"
     ]
    }
   ],
   "source": [
    "from decimal import Decimal\n",
    "\n",
    "def count(x,y) :\n",
    "    a = x + y\n",
    "    b = x - y\n",
    "    c = x * y\n",
    "    d = x / y\n",
    "    \n",
    "    return round(a,2), round(b,2), round(c,2), round(d,2)\n",
    "\n",
    "a = float(input(\"첫번째 숫자를 입력하세요 : \"))\n",
    "\n",
    "print(\"입력한 숫자는 \"+str(a)+\"입니다\")\n",
    "\n",
    "b = float(input(\"두번째 숫자를 입력하세요 : \"))\n",
    "\n",
    "print(\"입력한 숫자는 \"+str(b)+\"입니다\")\n",
    "\n",
    "x,y,z,w = count(a,b)\n",
    "print(\"{0}와 {1}의 덧셈, 뺄셈, 곱셈, 나눗셈 결과는 {2}, {3}, {4}, {5}입니다\".format(a,b,x,y,z,w))\n"
   ]
  },
  {
   "cell_type": "markdown",
   "id": "b92bd913",
   "metadata": {},
   "source": [
    "2번"
   ]
  },
  {
   "cell_type": "code",
   "execution_count": 28,
   "id": "62b50f8e",
   "metadata": {},
   "outputs": [
    {
     "data": {
      "text/plain": [
       "[1.0,\n",
       " 3.0,\n",
       " 4.0,\n",
       " 1.7320508075688772,\n",
       " 2.23606797749979,\n",
       " 1.4142135623730951,\n",
       " 2.8284271247461903,\n",
       " 2.6457513110645907]"
      ]
     },
     "execution_count": 28,
     "metadata": {},
     "output_type": "execute_result"
    }
   ],
   "source": [
    "import math\n",
    "\n",
    "def count(a) :\n",
    "    temp = []\n",
    "    for i in a :\n",
    "        temp.append(math.sqrt(i))\n",
    "    return temp\n",
    "\n",
    "a = [1,9,16,3,5,2,8,7]\n",
    "count(a)"
   ]
  },
  {
   "cell_type": "markdown",
   "id": "7ef30a64",
   "metadata": {},
   "source": [
    "3번"
   ]
  },
  {
   "cell_type": "code",
   "execution_count": 29,
   "id": "27ffe294",
   "metadata": {},
   "outputs": [
    {
     "data": {
      "text/plain": [
       "71.95"
      ]
     },
     "execution_count": 29,
     "metadata": {},
     "output_type": "execute_result"
    }
   ],
   "source": [
    "def count(a) :\n",
    "    b = sum(a)/len(a)\n",
    "    return b\n",
    "\n",
    "a = [82, 39, 90, 40, 20, 89, 69, 79, 89, 98,\n",
    "79, 88, 38, 58, 68, 80, 78, 73, 89, 93]\n",
    "\n",
    "count(a)\n",
    "\n"
   ]
  },
  {
   "cell_type": "markdown",
   "id": "dacb7db4",
   "metadata": {},
   "source": [
    "4번"
   ]
  },
  {
   "cell_type": "code",
   "execution_count": 31,
   "id": "7a7f6e82",
   "metadata": {},
   "outputs": [
    {
     "data": {
      "text/plain": [
       "[1, 2, 3, 4, 5, 6]"
      ]
     },
     "execution_count": 31,
     "metadata": {},
     "output_type": "execute_result"
    }
   ],
   "source": [
    "def count(a) :\n",
    "    b = list(set(a))\n",
    "    \n",
    "    return b\n",
    "    \n",
    "a = [1,2,3,5,4,3,6,5,4,3,2,3,4,4,1,1,3]\n",
    "\n",
    "count(a)"
   ]
  },
  {
   "cell_type": "markdown",
   "id": "c6a7dab8",
   "metadata": {},
   "source": [
    "5번"
   ]
  },
  {
   "cell_type": "code",
   "execution_count": 39,
   "id": "1a0823b2",
   "metadata": {},
   "outputs": [
    {
     "name": "stdout",
     "output_type": "stream",
     "text": [
      "1부터 9 사이의 숫자를 입력하세요 : 2\n",
      "입력받은 숫자는 2입니다.\n",
      "2*1=2\n",
      "2*2=4\n",
      "2*3=6\n",
      "2*4=8\n",
      "2*5=10\n",
      "2*6=12\n",
      "2*7=14\n",
      "2*8=16\n",
      "2*9=18\n"
     ]
    }
   ],
   "source": [
    "def count(a) :\n",
    "    for i in range(1,10) :\n",
    "        b = a*i\n",
    "        print(\"{0}*{1}={2}\".format(a,i,b))\n",
    "\n",
    "a = int(input(\"1부터 9 사이의 숫자를 입력하세요 : \"))\n",
    "print(\"입력받은 숫자는 {0}입니다.\".format(a))\n",
    "\n",
    "count(a)"
   ]
  },
  {
   "cell_type": "markdown",
   "id": "9179932d",
   "metadata": {},
   "source": [
    "6번"
   ]
  },
  {
   "cell_type": "code",
   "execution_count": 50,
   "id": "c01b61ed",
   "metadata": {},
   "outputs": [
    {
     "name": "stdout",
     "output_type": "stream",
     "text": [
      "정수 3개 입력: -1\n",
      "정수 3개 입력: 10\n",
      "정수 3개 입력: 2\n",
      "-1\n"
     ]
    }
   ],
   "source": [
    "def count(a) :\n",
    "    result = []\n",
    "    result.append(a[0])\n",
    "    for i in range(1,3) :\n",
    "     \n",
    "        if a[i] < result[-1] :\n",
    "            result.pop()\n",
    "            result.append(i)\n",
    "    print(result[0])\n",
    "\n",
    "list1 = []\n",
    "for i in range (3) :\n",
    "    list1.append(int(input(\"정수 3개 입력: \")))\n",
    "\n",
    "count(list1)\n"
   ]
  },
  {
   "cell_type": "markdown",
   "id": "186f3706",
   "metadata": {},
   "source": [
    "7번"
   ]
  },
  {
   "cell_type": "code",
   "execution_count": 63,
   "id": "19685afc",
   "metadata": {},
   "outputs": [
    {
     "name": "stdout",
     "output_type": "stream",
     "text": [
      "2.283333333333333\n"
     ]
    }
   ],
   "source": [
    "def count(n) :\n",
    "    \n",
    "    if n == 0 :\n",
    "        return 0\n",
    "    else :\n",
    "        return (1/n) + count(n-1)\n",
    "\n",
    "\n",
    "print(count(5))"
   ]
  }
 ],
 "metadata": {
  "kernelspec": {
   "display_name": "Python 3 (ipykernel)",
   "language": "python",
   "name": "python3"
  },
  "language_info": {
   "codemirror_mode": {
    "name": "ipython",
    "version": 3
   },
   "file_extension": ".py",
   "mimetype": "text/x-python",
   "name": "python",
   "nbconvert_exporter": "python",
   "pygments_lexer": "ipython3",
   "version": "3.8.12"
  }
 },
 "nbformat": 4,
 "nbformat_minor": 5
}

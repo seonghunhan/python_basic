{
 "cells": [
  {
   "cell_type": "markdown",
   "metadata": {},
   "source": [
    "문제 1번"
   ]
  },
  {
   "cell_type": "code",
   "execution_count": 12,
   "metadata": {},
   "outputs": [],
   "source": [
    "a = int(input())\n",
    "b = 300\n",
    "c = 0\n",
    "print(\"입력하신 반감기는 \" ,a, \"년입니다\")\n",
    "print(\"최초 방사능 물질의 양: 300g\")\n",
    "\n",
    "while b > 15 :\n",
    "    # a = a * c\n",
    "    c += 1\n",
    "    b = b / 2\n",
    "    print(a*c,\"년 후 남은 방사능 물질의 양:\",b,\"g\")\n",
    "    \n",
    "\n",
    "    if b<= 15 :\n",
    "        print(\"방가능 물질 300g의 5%인 15.0g 이하로 되기까지 걸린 시간은 \",a*c,\"년입니다\")\n",
    "        break"
   ]
  },
  {
   "cell_type": "markdown",
   "metadata": {},
   "source": [
    "문제 2번"
   ]
  },
  {
   "cell_type": "code",
   "execution_count": 2,
   "metadata": {},
   "outputs": [
    {
     "name": "stdout",
     "output_type": "stream",
     "text": [
      "*\n",
      "**\n",
      "***\n",
      "****\n"
     ]
    }
   ],
   "source": [
    "while True :\n",
    "    for i in range(1,5) :\n",
    "        print(i*\"*\")\n",
    "    break        \n",
    "\n",
    "        "
   ]
  },
  {
   "cell_type": "markdown",
   "metadata": {},
   "source": [
    "문제 3번"
   ]
  },
  {
   "cell_type": "code",
   "execution_count": 18,
   "metadata": {},
   "outputs": [
    {
     "ename": "ValueError",
     "evalue": "invalid literal for int() with base 10: ''",
     "output_type": "error",
     "traceback": [
      "\u001b[1;31m---------------------------------------------------------------------------\u001b[0m",
      "\u001b[1;31mValueError\u001b[0m                                Traceback (most recent call last)",
      "\u001b[1;32m~\\AppData\\Local\\Temp/ipykernel_7128/4160689146.py\u001b[0m in \u001b[0;36m<module>\u001b[1;34m\u001b[0m\n\u001b[0;32m      2\u001b[0m \u001b[1;33m\u001b[0m\u001b[0m\n\u001b[0;32m      3\u001b[0m \u001b[1;32mfor\u001b[0m \u001b[0mi\u001b[0m \u001b[1;32min\u001b[0m \u001b[0mrange\u001b[0m\u001b[1;33m(\u001b[0m\u001b[1;36m20\u001b[0m\u001b[1;33m)\u001b[0m \u001b[1;33m:\u001b[0m\u001b[1;33m\u001b[0m\u001b[1;33m\u001b[0m\u001b[0m\n\u001b[1;32m----> 4\u001b[1;33m     \u001b[0ma\u001b[0m \u001b[1;33m=\u001b[0m \u001b[0mint\u001b[0m\u001b[1;33m(\u001b[0m\u001b[0minput\u001b[0m\u001b[1;33m(\u001b[0m\u001b[1;33m)\u001b[0m\u001b[1;33m)\u001b[0m\u001b[1;33m\u001b[0m\u001b[1;33m\u001b[0m\u001b[0m\n\u001b[0m\u001b[0;32m      5\u001b[0m     \u001b[0mtemp\u001b[0m\u001b[1;33m.\u001b[0m\u001b[0mappend\u001b[0m\u001b[1;33m(\u001b[0m\u001b[0ma\u001b[0m\u001b[1;33m)\u001b[0m\u001b[1;33m\u001b[0m\u001b[1;33m\u001b[0m\u001b[0m\n\u001b[0;32m      6\u001b[0m     \u001b[0mb\u001b[0m \u001b[1;33m=\u001b[0m \u001b[0msum\u001b[0m\u001b[1;33m(\u001b[0m\u001b[0mtemp\u001b[0m\u001b[1;33m)\u001b[0m\u001b[1;33m\u001b[0m\u001b[1;33m\u001b[0m\u001b[0m\n",
      "\u001b[1;31mValueError\u001b[0m: invalid literal for int() with base 10: ''"
     ]
    }
   ],
   "source": [
    "temp = []\n",
    "\n",
    "for i in range(20) :\n",
    "    a = int(input())\n",
    "    temp.append(a)\n",
    "    b = sum(temp)\n",
    "    if len(temp) == 20 :\n",
    "        print(b/20)"
   ]
  },
  {
   "cell_type": "markdown",
   "metadata": {},
   "source": [
    "문제 4번"
   ]
  },
  {
   "cell_type": "code",
   "execution_count": 13,
   "metadata": {},
   "outputs": [
    {
     "name": "stdout",
     "output_type": "stream",
     "text": [
      "1 2 Fizz 4 5 Fizz Buzz 8 Fizz 10 11 Fizz 13 Buzz Fizz 16 17 Fizz 19 20 FizzBuzz 22 23 Fizz 25 26 Fizz Buzz 29 Fizz 31 32 Fizz 34 Buzz Fizz 37 38 Fizz 40 41 FizzBuzz 43 44 Fizz 46 47 Fizz Buzz 50 Fizz 52 53 Fizz 55 Buzz Fizz 58 59 Fizz 61 62 FizzBuzz 64 65 Fizz 67 68 Fizz Buzz 71 Fizz 73 74 Fizz 76 Buzz Fizz 79 80 Fizz 82 83 FizzBuzz 85 86 Fizz 88 89 Fizz Buzz 92 Fizz 94 95 Fizz 97 Buzz Fizz 100 "
     ]
    }
   ],
   "source": [
    "\n",
    "for i in range (1,101) :\n",
    "    if i % 3 == 0 and i % 7 ==0:\n",
    "        print(\"FizzBuzz\", end=\" \")\n",
    "    elif i % 3 == 0 :\n",
    "        print(\"Fizz\", end=\" \")\n",
    "    elif i % 7 == 0 :\n",
    "        print(\"Buzz\", end=\" \")\n",
    "    else :\n",
    "        print(i, end=\" \")\n"
   ]
  },
  {
   "cell_type": "code",
   "execution_count": 5,
   "metadata": {},
   "outputs": [
    {
     "name": "stdout",
     "output_type": "stream",
     "text": [
      "비밀번호를 입력하세요:\n",
      "입력한 비밀번호는  1234 입니다\n",
      "로그인 성공했습니다!\n"
     ]
    }
   ],
   "source": [
    "a = int(1234)\n",
    "c = 0\n",
    "\n",
    "for i in range(5) :\n",
    "    print(\"비밀번호를 입력하세요:\")\n",
    "    c += 1\n",
    "    b = int(input())\n",
    "    print(\"입력한 비밀번호는 \",b,\"입니다\")\n",
    "    if a == b :\n",
    "        print(\"로그인 성공했습니다!\")\n",
    "        break\n",
    "    elif c == 5 :\n",
    "        print(\"잘못된 로그인 시도:\",c,\"회\")\n",
    "        print(\"로그인 시도 횟수를 초과했습니다\")\n",
    "        break\n",
    "    elif a != b :\n",
    "        print(\"잘못된 로그인 시도:\",c,\"회\")\n",
    "        "
   ]
  }
 ],
 "metadata": {
  "interpreter": {
   "hash": "9875938fb2fbe62e691ae5d2fe694810f4262e55ab6835d3d138f35426edbc4c"
  },
  "kernelspec": {
   "display_name": "Python 3.8.12 64-bit ('base': conda)",
   "name": "python3"
  },
  "language_info": {
   "codemirror_mode": {
    "name": "ipython",
    "version": 3
   },
   "file_extension": ".py",
   "mimetype": "text/x-python",
   "name": "python",
   "nbconvert_exporter": "python",
   "pygments_lexer": "ipython3",
   "version": "3.8.12"
  },
  "orig_nbformat": 4
 },
 "nbformat": 4,
 "nbformat_minor": 2
}

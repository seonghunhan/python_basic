{
 "cells": [
  {
   "cell_type": "markdown",
   "id": "e1c8d0d5",
   "metadata": {},
   "source": [
    "1번 문제"
   ]
  },
  {
   "cell_type": "code",
   "execution_count": 1,
   "id": "6b658e30",
   "metadata": {},
   "outputs": [
    {
     "name": "stdout",
     "output_type": "stream",
     "text": [
      "True\n"
     ]
    }
   ],
   "source": [
    "class Triangle:\n",
    "\n",
    "    def __init__(self, a, b, c) :\n",
    "        \n",
    "        self.angle1 = a\n",
    "        self.angle2 = b\n",
    "        self.angle3 = c\n",
    "\n",
    "    def count(self) :\n",
    "        \n",
    "        if self.angle1 + self.angle2 + self.angle3 == 180 :     \n",
    "            return True\n",
    "        \n",
    "        else :\n",
    "            return False\n",
    "\n",
    "\n",
    "\n",
    "if __name__ == \"__main__\" :\n",
    "    t = Triangle(150,10,20)\n",
    "    print(t.count())"
   ]
  },
  {
   "cell_type": "markdown",
   "id": "e7981a32",
   "metadata": {},
   "source": [
    "2번 문제"
   ]
  },
  {
   "cell_type": "code",
   "execution_count": 3,
   "id": "16fbffcd",
   "metadata": {},
   "outputs": [
    {
     "name": "stdout",
     "output_type": "stream",
     "text": [
      "salvation is coming is coming in the morning”,“wait patiently, aiming straight for it”,“but now what we need is a little rain on our face from you\n"
     ]
    }
   ],
   "source": [
    "class Song:\n",
    "\n",
    "    def __init__(self, Iyrics) :\n",
    "        \n",
    "        self.Iyrics = Iyrics\n",
    "\n",
    "    def sing_a_song(self) :\n",
    "        \n",
    "        print(self.Iyrics[0])\n",
    "\n",
    "\n",
    "if __name__ == \"__main__\" :\n",
    "    t = Song([\"salvation is coming is coming in the morning”,“wait patiently, aiming straight for it”,“but now what we need is a little rain on our face from you\"])\n",
    "    t.sing_a_song()"
   ]
  },
  {
   "cell_type": "markdown",
   "id": "0e579f65",
   "metadata": {},
   "source": [
    "3(1)번 문제"
   ]
  },
  {
   "cell_type": "code",
   "execution_count": 4,
   "id": "f4c6b3a5",
   "metadata": {},
   "outputs": [
    {
     "name": "stdout",
     "output_type": "stream",
     "text": [
      "{'Menu': '부대찌개', 'Price': '4500원', 'Kcal': 570}\n"
     ]
    }
   ],
   "source": [
    "class Program:\n",
    "\n",
    "    def __init__(self) :\n",
    "\n",
    "        pass\n",
    "\n",
    "    def A_course(self) :\n",
    "        \n",
    "        menu = {'Menu' : '삼계탕', 'Price' : '5000원', 'Kcal' : 698}\n",
    "        print(menu)\n",
    "\n",
    "    def B_course(self) :\n",
    "        \n",
    "        menu = {'Menu' : '부대찌개', 'Price' : '4500원', 'Kcal' : 570}\n",
    "        print(menu)\n",
    "\n",
    "\n",
    "if __name__ == \"__main__\" :\n",
    "    t = Program()\n",
    "    t.B_course()"
   ]
  },
  {
   "cell_type": "markdown",
   "id": "4a1a6cd8",
   "metadata": {},
   "source": [
    "3(2)번 문제"
   ]
  },
  {
   "cell_type": "code",
   "execution_count": 5,
   "id": "66154f3f",
   "metadata": {},
   "outputs": [
    {
     "name": "stdout",
     "output_type": "stream",
     "text": [
      "A코스와 B코스 중 원하시는 코스를 입력해주세요 (예:A코스): A코스\n",
      "A코스 : 삼계탕 (698kcal) - 가격 5000원원\n"
     ]
    }
   ],
   "source": [
    "class Program:\n",
    "\n",
    "    def __init__(self) :\n",
    "\n",
    "        self.select = input(\"A코스와 B코스 중 원하시는 코스를 입력해주세요 (예:A코스): \")\n",
    "\n",
    "        if self.select == 'A코스' :\n",
    "            self.A_course() \n",
    "        elif self.select == 'B코스' :\n",
    "            self.B_course()\n",
    "        else :\n",
    "            print(\"에러: 없는 코스입니다\")\n",
    "\n",
    "    def A_course(self) :\n",
    "        \n",
    "        menu = {'Menu' : '삼계탕', 'Price' : '5000원', 'Kcal' : 698}\n",
    "        print(\"A코스 : {} ({}kcal) - 가격 {}원\".format(menu['Menu'],menu['Kcal'],menu['Price']))\n",
    "\n",
    "    def B_course(self) :\n",
    "        \n",
    "        menu = {'Menu' : '부대찌개', 'Price' : '4500원', 'Kcal' : 570}\n",
    "        print(\"A코스 : {} ({}kcal) - 가격 {}원\".format(menu['Menu'],menu['Kcal'],menu['Price']))\n",
    "\n",
    "\n",
    "if __name__ == \"__main__\" :\n",
    "    t = Program()\n"
   ]
  },
  {
   "cell_type": "markdown",
   "id": "0660b219",
   "metadata": {},
   "source": [
    "4번 문제"
   ]
  },
  {
   "cell_type": "code",
   "execution_count": 8,
   "id": "a92527b2",
   "metadata": {},
   "outputs": [],
   "source": [
    "class Calculator:\n",
    "    def __init__(self) :\n",
    "        self.value = 0\n",
    "\n",
    "    def add(self, val) :\n",
    "        self.value += val\n",
    "\n",
    "class UpgradeCalculator(Calculator) :\n",
    "    def __init__(self):\n",
    "        super().__init__()\n",
    "        \n",
    "    def minus(self, val) :\n",
    "        self.value -= val\n",
    "    \n",
    "if __name__ == \"__main__\" :\n",
    "    t = UpgradeCalculator()"
   ]
  },
  {
   "cell_type": "markdown",
   "id": "73cecf0d",
   "metadata": {},
   "source": [
    "5번 문제"
   ]
  },
  {
   "cell_type": "code",
   "execution_count": 7,
   "id": "070355f2",
   "metadata": {},
   "outputs": [
    {
     "name": "stdout",
     "output_type": "stream",
     "text": [
      "6.09570252971655\n"
     ]
    }
   ],
   "source": [
    "class Ft_to_M():\n",
    "    def __init__(self, ft) :\n",
    "        self.value = ft\n",
    "        self.transform()\n",
    "\n",
    "    def transform(self) :\n",
    "        self.m_result = self.value / 3.281\n",
    "        print(self.m_result)\n",
    "    \n",
    "if __name__ == \"__main__\" :\n",
    "    t = Ft_to_M(20)\n"
   ]
  },
  {
   "cell_type": "code",
   "execution_count": null,
   "id": "12fa8419",
   "metadata": {},
   "outputs": [],
   "source": []
  }
 ],
 "metadata": {
  "kernelspec": {
   "display_name": "Python 3 (ipykernel)",
   "language": "python",
   "name": "python3"
  },
  "language_info": {
   "codemirror_mode": {
    "name": "ipython",
    "version": 3
   },
   "file_extension": ".py",
   "mimetype": "text/x-python",
   "name": "python",
   "nbconvert_exporter": "python",
   "pygments_lexer": "ipython3",
   "version": "3.8.12"
  }
 },
 "nbformat": 4,
 "nbformat_minor": 5
}

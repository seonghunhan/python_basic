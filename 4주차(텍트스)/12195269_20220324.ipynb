{
 "cells": [
  {
   "cell_type": "markdown",
   "metadata": {},
   "source": [
    "문제 1번"
   ]
  },
  {
   "cell_type": "code",
   "execution_count": 11,
   "metadata": {},
   "outputs": [
    {
     "name": "stdout",
     "output_type": "stream",
     "text": [
      "강나루 건너서\n",
      "밀발 길을\n",
      "구름에 달 가듯이\n",
      "가는 나그네.\n",
      "\n",
      "길은 외줄기\n",
      "남도 삼백리.\n",
      "술 익은 마을마다\n",
      "타는 저녁놀.\n",
      "구름에 달 가듯이\n",
      "가는 나그네.\n"
     ]
    }
   ],
   "source": [
    "print(\"강나루 건너서\\n밀발 길을\\n구름에 달 가듯이\\n가는 나그네.\\n\\n길은 외줄기\\n남도 삼백리.\\n술 익은 마을마다\\n타는 저녁놀.\\n구름에 달 가듯이\\n가는 나그네.\")"
   ]
  },
  {
   "cell_type": "markdown",
   "metadata": {},
   "source": [
    "문제 2번"
   ]
  },
  {
   "cell_type": "code",
   "execution_count": 12,
   "metadata": {},
   "outputs": [
    {
     "name": "stdout",
     "output_type": "stream",
     "text": [
      "\"그러니까 모자만 써보면 된다는 거잖아!\" 론이 해리에게 귓속말을 했다. \"프레드 죽여 버릴거야. 트롤하고 레슬링을 해야된댔는데.\"\n"
     ]
    }
   ],
   "source": [
    "print(\"\\\"그러니까 모자만 써보면 된다는 거잖아!\\\" 론이 해리에게 귓속말을 했다. \\\"프레드 죽여 버릴거야. 트롤하고 레슬링을 해야된댔는데.\\\"\")"
   ]
  },
  {
   "cell_type": "markdown",
   "metadata": {},
   "source": [
    "문제 3번"
   ]
  },
  {
   "cell_type": "code",
   "execution_count": 21,
   "metadata": {},
   "outputs": [
    {
     "name": "stdout",
     "output_type": "stream",
     "text": [
      "12195269한성훈12195269한성훈12195269한성훈\n",
      "9번째 인덱스에 위치한 문자: 한\n"
     ]
    }
   ],
   "source": [
    "str1 = input(\"이름과 학번을 입력하세요\")\n",
    "\n",
    "print(str1*3)\n",
    "\n",
    "print(\"9번째 인덱스에 위치한 문자: \"+str1[8])"
   ]
  },
  {
   "cell_type": "markdown",
   "metadata": {},
   "source": [
    "문제 4번"
   ]
  },
  {
   "cell_type": "code",
   "execution_count": 24,
   "metadata": {},
   "outputs": [
    {
     "name": "stdout",
     "output_type": "stream",
     "text": [
      "산업경영공학과산업경영공학과산업경영공학과산업경영공학과산업경영공학과\n",
      "공학과산69한성훈\n"
     ]
    }
   ],
   "source": [
    "str2 = input(\"소속학과를 입력해주세요 : \")\n",
    "\n",
    "str3 = str2*5\n",
    "\n",
    "print(str3)\n",
    "print(str3[4:8]+str1[6:11])"
   ]
  },
  {
   "cell_type": "markdown",
   "metadata": {},
   "source": [
    "문제 5번"
   ]
  },
  {
   "cell_type": "code",
   "execution_count": 46,
   "metadata": {},
   "outputs": [
    {
     "name": "stdout",
     "output_type": "stream",
     "text": [
      "135\n"
     ]
    }
   ],
   "source": [
    "str4 = \"A choice architecture has the responsibility for organizating the context in\\\n",
    "which people make decisions. Although Carolyn is a figment of our\\\n",
    "imagination, many real people turn out to be choice architects, most without\\\n",
    "realizing it. If you design the ballot voters use to choose candidates, you are a\\\n",
    "choice architect. If you are a doctor and must describe the alternative\\\n",
    "treatments available to patient, you are a choice architect.\"\n",
    "\n",
    "print(str4.find(\"of\"))"
   ]
  },
  {
   "cell_type": "markdown",
   "metadata": {},
   "source": [
    "문제 6번"
   ]
  },
  {
   "cell_type": "code",
   "execution_count": 47,
   "metadata": {},
   "outputs": [
    {
     "name": "stdout",
     "output_type": "stream",
     "text": [
      "4\n",
      "A SELECT ARCHITECTURE HAS THE RESPONSIBILITY FOR ORGANIZATING THE CONTEXT INWHICH PEOPLE MAKE DECISIONS. ALTHOUGH CAROLYN IS A FIGMENT OF OURIMAGINATION, MANY REAL PEOPLE TURN OUT TO BE SELECT ARCHITECTS, MOST WITHOUTREALIZING IT. IF YOU DESIGN THE BALLOT VOTERS USE TO CHOOSE CANDIDATES, YOU ARE ASELECT ARCHITECT. IF YOU ARE A DOCTOR AND MUST DESCRIBE THE ALTERNATIVETREATMENTS AVAILABLE TO PATIENT, YOU ARE A SELECT ARCHITECT.\n"
     ]
    }
   ],
   "source": [
    "print(str4.count(\"choice\"))\n",
    "# str4.replace(\"choice\",\"select\")\n",
    "\n",
    "\n",
    "str5 = str4.replace(\"choice\",\"select\")\n",
    "\n",
    "print(str5.upper())\n",
    "\n"
   ]
  },
  {
   "cell_type": "markdown",
   "metadata": {},
   "source": [
    "문제 7번"
   ]
  },
  {
   "cell_type": "code",
   "execution_count": 53,
   "metadata": {},
   "outputs": [
    {
     "name": "stdout",
     "output_type": "stream",
     "text": [
      "When-I-die,-I-don't-want-to-rest-in-peace.-I-want-to-dance-in-joy,-I-want-to-dance-in-the-graveyards\n"
     ]
    }
   ],
   "source": [
    "str6 = \"      When I die, I don't want to rest in peace. I want to dance in joy, I want to dance in the graveyards!!!!!\"\n",
    "\n",
    "str7 = str6.lstrip()\n",
    "str8 = str7.replace(\" \",\"-\")\n",
    "\n",
    "characters = \"!\"\n",
    "\n",
    "for x in range(len(characters)):\n",
    "    str8 = str8.replace(characters[x],\"\")\n",
    "\n",
    "print(str8)"
   ]
  },
  {
   "cell_type": "markdown",
   "metadata": {},
   "source": [
    "문제 8번"
   ]
  },
  {
   "cell_type": "code",
   "execution_count": 1,
   "metadata": {},
   "outputs": [
    {
     "name": "stdout",
     "output_type": "stream",
     "text": [
      "원의 지름을 입력하세요 :4\n",
      "원의 넓이는 아래와 같습니다 : \n",
      "12.566\n"
     ]
    }
   ],
   "source": [
    "import math\n",
    "\n",
    "py = math.pi\n",
    "number = int(input(\"원의 지름을 입력하세요 : \"))\n",
    "print(\"원의 지름을 입력하세요 :\"+str(number))\n",
    "S = (py)*((number/2)**2)\n",
    "\n",
    "print(\"원의 넓이는 아래와 같습니다 : \")\n",
    "print(\"{:.3f}\".format(S))"
   ]
  },
  {
   "cell_type": "code",
   "execution_count": null,
   "metadata": {},
   "outputs": [],
   "source": []
  }
 ],
 "metadata": {
  "interpreter": {
   "hash": "9875938fb2fbe62e691ae5d2fe694810f4262e55ab6835d3d138f35426edbc4c"
  },
  "kernelspec": {
   "display_name": "Python 3.8.12 64-bit ('base': conda)",
   "name": "python3"
  },
  "language_info": {
   "codemirror_mode": {
    "name": "ipython",
    "version": 3
   },
   "file_extension": ".py",
   "mimetype": "text/x-python",
   "name": "python",
   "nbconvert_exporter": "python",
   "pygments_lexer": "ipython3",
   "version": "3.8.12"
  },
  "orig_nbformat": 4
 },
 "nbformat": 4,
 "nbformat_minor": 2
}

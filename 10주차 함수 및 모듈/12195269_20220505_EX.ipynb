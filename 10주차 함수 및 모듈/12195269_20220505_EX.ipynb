{
 "cells": [
  {
   "cell_type": "markdown",
   "id": "123e6ea5",
   "metadata": {},
   "source": [
    "문제 1"
   ]
  },
  {
   "cell_type": "code",
   "execution_count": 5,
   "id": "d6d379ad",
   "metadata": {},
   "outputs": [
    {
     "name": "stdout",
     "output_type": "stream",
     "text": [
      "[1, 3, 8]\n"
     ]
    }
   ],
   "source": [
    "list1 = [1,-2,3,-5,8,-3]\n",
    "\n",
    "function1 = lambda x: x>0\n",
    "\n",
    "list2 = filter(function1, list1)\n",
    "\n",
    "print(list(list2))"
   ]
  },
  {
   "cell_type": "markdown",
   "id": "b1842d54",
   "metadata": {},
   "source": [
    "문제2"
   ]
  },
  {
   "cell_type": "code",
   "execution_count": null,
   "id": "2a126b7c",
   "metadata": {},
   "outputs": [],
   "source": [
    "list1 = [1,2,3,4,5,6,7,8,9,10]\n"
   ]
  }
 ],
 "metadata": {
  "kernelspec": {
   "display_name": "Python 3 (ipykernel)",
   "language": "python",
   "name": "python3"
  },
  "language_info": {
   "codemirror_mode": {
    "name": "ipython",
    "version": 3
   },
   "file_extension": ".py",
   "mimetype": "text/x-python",
   "name": "python",
   "nbconvert_exporter": "python",
   "pygments_lexer": "ipython3",
   "version": "3.8.12"
  }
 },
 "nbformat": 4,
 "nbformat_minor": 5
}

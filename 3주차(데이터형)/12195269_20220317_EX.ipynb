{
 "cells": [
  {
   "cell_type": "markdown",
   "metadata": {},
   "source": [
    "문제 1번"
   ]
  },
  {
   "cell_type": "code",
   "execution_count": 6,
   "metadata": {},
   "outputs": [
    {
     "name": "stdout",
     "output_type": "stream",
     "text": [
      "number 변수의 데이터형은 <class 'int'>입니다\n",
      "number 변수를 문자열로 바꾼 데이터형은 <class 'str'>입니다\n"
     ]
    }
   ],
   "source": [
    "number = 12195269\n",
    "strnumber = str(number)\n",
    "\n",
    "print(\"number 변수의 데이터형은 \"+str(type(number))+\"입니다\")\n",
    "print(\"number 변수를 문자열로 바꾼 데이터형은 \"+str(type(strnumber))+\"입니다\")"
   ]
  },
  {
   "cell_type": "markdown",
   "metadata": {},
   "source": [
    "문제 2번"
   ]
  },
  {
   "cell_type": "code",
   "execution_count": 9,
   "metadata": {},
   "outputs": [
    {
     "name": "stdout",
     "output_type": "stream",
     "text": [
      "원의 지름을 입력하세요 :4\n",
      "원의 넓이는 아래와 같습니다 : \n",
      "12.56\n"
     ]
    }
   ],
   "source": [
    "# 2번\n",
    "py = 3.14\n",
    "number = int(input(\"원의 지름을 입력하세요 : \"))\n",
    "print(\"원의 지름을 입력하세요 :\"+str(number))\n",
    "S = 2*py*(number/2)\n",
    "\n",
    "print(\"원의 넓이는 아래와 같습니다 : \")\n",
    "print(S)"
   ]
  },
  {
   "cell_type": "markdown",
   "metadata": {},
   "source": [
    "문제 3번"
   ]
  },
  {
   "cell_type": "code",
   "execution_count": 10,
   "metadata": {},
   "outputs": [
    {
     "name": "stdout",
     "output_type": "stream",
     "text": [
      "5320초는 88분 40초입니다\n"
     ]
    }
   ],
   "source": [
    "# 3번\n",
    "\n",
    "var1 = 5320\n",
    "min = int(var1)//60\n",
    "sec = 5320%60\n",
    "\n",
    "print(str(var1) +\"초는 \"+str(min)+\"분 \"+ str(sec) +\"초입니다\")\n"
   ]
  },
  {
   "cell_type": "markdown",
   "metadata": {},
   "source": [
    "문제 4번"
   ]
  },
  {
   "cell_type": "code",
   "execution_count": 11,
   "metadata": {},
   "outputs": [
    {
     "name": "stdout",
     "output_type": "stream",
     "text": [
      "5320초는 1시간 28분 40초입니다\n"
     ]
    }
   ],
   "source": [
    "#4번\n",
    "\n",
    "var1 = 5320\n",
    "hour = int(var1)//3600\n",
    "min = (5320 - (3600*hour))//60\n",
    "sec = (5320 - (3600*hour))%60\n",
    "\n",
    "print(str(var1)+\"초는 \"+str(hour)+\"시간 \"+str(min)+\"분 \"+str(sec)+\"초입니다\")\n"
   ]
  },
  {
   "cell_type": "markdown",
   "metadata": {},
   "source": [
    "문제 5번"
   ]
  },
  {
   "cell_type": "code",
   "execution_count": 14,
   "metadata": {},
   "outputs": [
    {
     "name": "stdout",
     "output_type": "stream",
     "text": [
      "첫번째 점의 x 좌표값 x1을 입력하세요 :4\n",
      "첫번째 점의 y 좌표값 y1 값을 입력하세요 :0\n",
      "두번째 점의 x 좌표값 x2 값을 입력하세요 :6\n",
      "두번째 점의 y 좌표값 y2 값을 입력하세요 :6\n",
      "두 점 사이 거리는6입니다\n"
     ]
    }
   ],
   "source": [
    "# 5번\n",
    "import math\n",
    "\n",
    "x1 = int(input(\"첫번째 점의 x 좌표값 x1을 입력하세요 :\"))\n",
    "y1 = int(input(\"첫번째 점의 y 좌표값 y1 값을 입력하세요 :\"))\n",
    "x2 = int(input(\"두번째 점의 x 좌표값 x2 값을 입력하세요 :\"))\n",
    "y2 = int(input(\"두번째 점의 y 좌표값 y2 값을 입력하세요 :\"))\n",
    "\n",
    "result = ((x1 - x2)**2 + (y1 - y2)**2)\n",
    "final = int(math.sqrt(result))\n",
    "\n",
    "print(\"첫번째 점의 x 좌표값 x1을 입력하세요 :\"+str(x1))\n",
    "print(\"첫번째 점의 y 좌표값 y1 값을 입력하세요 :\"+str(y1))\n",
    "print(\"두번째 점의 x 좌표값 x2 값을 입력하세요 :\"+str(x2))\n",
    "print(\"두번째 점의 y 좌표값 y2 값을 입력하세요 :\"+str(y2))\n",
    "print(\"두 점 사이 거리는\"+ str(final)+\"입니다\")\n"
   ]
  },
  {
   "cell_type": "markdown",
   "metadata": {},
   "source": [
    "문제 6번"
   ]
  },
  {
   "cell_type": "code",
   "execution_count": 15,
   "metadata": {},
   "outputs": [
    {
     "name": "stdout",
     "output_type": "stream",
     "text": [
      "A= 1.70688\n",
      "B= 1.76784\n",
      "C= 1.88976\n",
      "D= 1.5849600000000001\n",
      "Mean= 1.7373600000000002\n"
     ]
    }
   ],
   "source": [
    "# 6번\n",
    "\n",
    "ft = 0.3048\n",
    "\n",
    "ari = 5.6 * ft\n",
    "batt = 5.8 * ft\n",
    "chally = 6.2 * ft\n",
    "dicky = 5.2 * ft\n",
    "\n",
    "print(\"A= \"+ str(ari))\n",
    "print(\"B= \"+ str(batt))\n",
    "print(\"C= \"+ str(chally))\n",
    "print(\"D= \"+ str(dicky))\n",
    "print(\"Mean= \" + str((ari + batt + chally + dicky)/4))"
   ]
  },
  {
   "cell_type": "code",
   "execution_count": null,
   "metadata": {},
   "outputs": [],
   "source": []
  }
 ],
 "metadata": {
  "interpreter": {
   "hash": "9875938fb2fbe62e691ae5d2fe694810f4262e55ab6835d3d138f35426edbc4c"
  },
  "kernelspec": {
   "display_name": "Python 3.8.12 64-bit ('base': conda)",
   "name": "python3"
  },
  "language_info": {
   "codemirror_mode": {
    "name": "ipython",
    "version": 3
   },
   "file_extension": ".py",
   "mimetype": "text/x-python",
   "name": "python",
   "nbconvert_exporter": "python",
   "pygments_lexer": "ipython3",
   "version": "3.8.12"
  },
  "orig_nbformat": 4
 },
 "nbformat": 4,
 "nbformat_minor": 2
}
